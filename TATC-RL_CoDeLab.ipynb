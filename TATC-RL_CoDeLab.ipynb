{
 "cells": [
  {
   "cell_type": "code",
   "execution_count": 2,
   "metadata": {},
   "outputs": [],
   "source": [
    "\n",
    "import geopandas as gpd\n",
    "import numpy as np\n",
    "import pandas as pd\n",
    "import sklearn \n",
    "import torch\n",
    "import torch.nn as nn\n",
    "import torch.optim as optim\n",
    "import random"
   ]
  },
  {
   "cell_type": "code",
   "execution_count": 4,
   "metadata": {},
   "outputs": [],
   "source": [
    "#Reading the Data File\n",
    "\n",
    "file_path = '/Users/shalini/Desktop/TATC-RL/clustered_data_4months (2).geojson'\n",
    "data = gpd.read_file(file_path)\n"
   ]
  },
  {
   "cell_type": "code",
   "execution_count": 16,
   "metadata": {},
   "outputs": [
    {
     "name": "stdout",
     "output_type": "stream",
     "text": [
      "94480\n",
      "3630\n"
     ]
    }
   ],
   "source": [
    "\n",
    "data.head(), data.columns\n",
    "\n",
    "print(len(data))\n",
    "#n_valid = [x for x in data if data['cnprcp_mean'] > 0]\n",
    "print(len(data[data['cnprcp_mean']>0]))"
   ]
  },
  {
   "cell_type": "code",
   "execution_count": 4,
   "metadata": {},
   "outputs": [],
   "source": [
    "# Preprocessing timestamp\n",
    "data['time'] = pd.to_datetime(data['time'])\n",
    "\n",
    "\n",
    "data['time_step'] = (data['time'] - data['time'].min()).dt.total_seconds()\n"
   ]
  },
  {
   "cell_type": "code",
   "execution_count": 5,
   "metadata": {},
   "outputs": [
    {
     "data": {
      "text/plain": [
       "\"\\nworld = gpd.read_file('/Users/shalini/Desktop/TATC-RL/ne_110m_admin_0_countries.shp')\\ndata['centroid'] = data.geometry.centroid\\ncentroids = gpd.GeoDataFrame(data, geometry='centroid', crs=data.crs)\\nland_check = gpd.overlay(centroids, world, how='intersection')\\ndata['isground'] = data['centroid'].apply(lambda x: 'land' if not land_check[land_check.geometry == x].empty else 'water')\\n\\ndata.head(), data.columns\\n\""
      ]
     },
     "execution_count": 5,
     "metadata": {},
     "output_type": "execute_result"
    }
   ],
   "source": [
    "'''\n",
    "world = gpd.read_file('/Users/shalini/Desktop/TATC-RL/ne_110m_admin_0_countries.shp')\n",
    "data['centroid'] = data.geometry.centroid\n",
    "centroids = gpd.GeoDataFrame(data, geometry='centroid', crs=data.crs)\n",
    "land_check = gpd.overlay(centroids, world, how='intersection')\n",
    "data['is_ground'] = data['centroid'].apply(lambda x: 'land' if not land_check[land_check.geometry == x].empty else 'water')\n",
    "\n",
    "data.head(), data.columns\n",
    "'''"
   ]
  },
  {
   "cell_type": "code",
   "execution_count": 6,
   "metadata": {},
   "outputs": [],
   "source": [
    "#Data Processing\n",
    "\n",
    "from sklearn.preprocessing import LabelEncoder, MinMaxScaler\n",
    "\n",
    "#data['is_ground_enc'] = data['is_ground'].astype(int)\n",
    "\n",
    "scaler = MinMaxScaler()\n",
    "data[['lat_norm', 'lon_norm', 'cnprcp_norm']] = scaler.fit_transform(data[['lat_sat', 'lon_sat', 'cnprcp_mean']])"
   ]
  },
  {
   "cell_type": "code",
   "execution_count": 7,
   "metadata": {},
   "outputs": [],
   "source": [
    "#Creating RL environment\n",
    "\n",
    "class SatelliteEnv:\n",
    "    def __init__(self, data):\n",
    "        #defining state space\n",
    "        self.data = data.reset_index(drop=True)\n",
    "        self.current_index = 0\n",
    "        \n",
    "        self.state_space = [\n",
    "            'lat_norm',\n",
    "            'lon_norm',\n",
    "            'time_step'\n",
    "            'solar_hour'\n",
    "        ]\n",
    "        \n",
    "        self.n_actions = 2\n",
    "        \n",
    "    def reset(self):\n",
    "        #Environment resets to the initial state.\n",
    "        self.current_index = 0\n",
    "        self.current_time = self.data.loc[self.current_index, 'time_step']\n",
    "        return self.get_state()\n",
    "\n",
    "    def get_state(self):\n",
    "        #get back current state vector based on real-time data\n",
    "        if self.current_index < len(self.data):\n",
    "            state = self.data.loc[self.current_index, self.state_space].values.astype(float)\n",
    "            return state\n",
    "        else:\n",
    "            return None\n",
    "    \n",
    "    def step(self, action):\n",
    "        \n",
    "        #pushing action and transition to next state\n",
    "        \n",
    "        #action taken by agent will be in form of 0 and 1 only i.e valid observation or not. \n",
    "        state = self.get_state()\n",
    "        cnprcp_norm = state[self.state_space.index('cnprcp_norm')]\n",
    "        reward = self.calculate_reward(cnprcp_norm, action)\n",
    "        \n",
    "        current_time = self.data.loc[self.current_index, 'time_step']\n",
    "        \n",
    "        self.current_index += 1\n",
    "        \n",
    "        #whether the episode environment has ended.\n",
    "        done = self.current_index >= len(self.data)\n",
    "        if not done == True:\n",
    "            next_time = self.data.loc[self.current_index, 'time_step']\n",
    "            \n",
    "            while next_time <= current_time and self.current_index < len(self.data) - 1:\n",
    "                self.current_index += 1\n",
    "                next_time = self.data.loc[self.current_index, 'time_step']\n",
    "\n",
    "            if next_time <= current_time:\n",
    "                done = True\n",
    "                next_state = None\n",
    "            else:\n",
    "                self.current_time = next_time\n",
    "                next_state = self.get_state()\n",
    "                done = False\n",
    "        else:\n",
    "            next_state = None\n",
    "        \n",
    "        return next_state, reward, done\n",
    "    \n",
    "    #basic reward function\n",
    "    def calculate_reward(self, cnprcp_norm, action, threshold=0.0):\n",
    "        if action == 1:\n",
    "            if cnprcp_norm > threshold:\n",
    "                return 1\n",
    "            else:\n",
    "                return -1\n",
    "        else:\n",
    "            if cnprcp_norm > threshold:\n",
    "                return -0.5\n",
    "            else:\n",
    "                return 0\n"
   ]
  },
  {
   "cell_type": "code",
   "execution_count": 11,
   "metadata": {},
   "outputs": [],
   "source": [
    "class DQN(nn.Module):\n",
    "    def init(self, input_dim, output_dim):\n",
    "        super(DQN, self).init()\n",
    "        # Define the neural network layers\n",
    "        self.fc1 = nn.Linear(input_dim, 128)\n",
    "        self.relu1 = nn.ReLU()\n",
    "        self.fc2 = nn.Linear(128, 64)\n",
    "        self.relu2 = nn.ReLU()\n",
    "        self.fc3 = nn.Linear(64, output_dim)\n",
    "\n",
    "    def forward(self, x):\n",
    "        x = self.relu1(self.fc1(x))\n",
    "        x = self.relu2(self.fc2(x))\n",
    "        return self.fc3(x)\n"
   ]
  },
  {
   "cell_type": "code",
   "execution_count": 12,
   "metadata": {},
   "outputs": [],
   "source": [
    "from collections import deque\n",
    "import random\n",
    "\n",
    "class ReplayMemory:\n",
    "    def init(self, capacity):\n",
    "        self.capacity = capacity\n",
    "        self.memory = deque(maxlen=capacity)\n",
    "\n",
    "    def push(self, transition):\n",
    "        self.memory.append(transition)\n",
    "    \n",
    "    def sample(self, batch_size):\n",
    "        return random.sample(self.memory, batch_size)\n",
    "    \n",
    "    "
   ]
  },
  {
   "cell_type": "code",
   "execution_count": 10,
   "metadata": {},
   "outputs": [],
   "source": [
    "class DQNAgent:\n",
    "    def init(self, state_dim, action_dim, lr=0.001):\n",
    "        self.model = DQN(state_dim, action_dim)\n",
    "        self.target_model = DQN(state_dim, action_dim)\n",
    "        self.update_target_network()\n",
    "        self.memory = ReplayMemory(10000)\n",
    "        self.optimizer = optim.Adam(self.model.parameters(), lr=lr)\n",
    "        self.criterion = nn.MSELoss()\n",
    "        self.action_dim = action_dim\n",
    "        self.gamma = 0.99\n",
    "        \n",
    "    def update_target_network(self):\n",
    "        self.target_model.load_state_dict(self.model.state_dict())\n",
    "        \n",
    "    def select_action(self, state, epsilon):\n",
    "        if random.random() > epsilon:\n",
    "            with torch.no_grad():\n",
    "                state = torch.tensor(state, dtype=torch.float32)\n",
    "                q_values = self.model(state)\n",
    "                action = torch.argmax(q_values).item()\n",
    "        else:\n",
    "            action = random.randrange(self.action_dim)\n",
    "        return action\n",
    "    \n",
    "    def learn(self, batch_size):\n",
    "        if len(self.memory) < batch_size:\n",
    "            return\n",
    "        transitions = self.memory.sample(batch_size)\n",
    "        batch_state, batch_action, batch_next_state, batch_reward, batch_done = zip(*transitions)\n",
    "\n",
    "        batch_state = torch.tensor(batch_state, dtype=torch.float32)\n",
    "        batch_action = torch.tensor(batch_action, dtype=torch.int64).unsqueeze(1)\n",
    "        batch_reward = torch.tensor(batch_reward, dtype=torch.float32).unsqueeze(1)\n",
    "        batch_next_state = torch.tensor(batch_next_state, dtype=torch.float32)\n",
    "        batch_done = torch.tensor(batch_done, dtype=torch.float32).unsqueeze(1)\n",
    "        \n",
    "        current_q_values = self.model(batch_state).gather(1, batch_action)\n",
    "        with torch.no_grad():\n",
    "            max_next_q_values = self.target_model(batch_next_state).max(1)[0].unsqueeze(1)\n",
    "            expected_q_values = batch_reward + self.gamma * max_next_q_values * (1 - batch_done)\n",
    "            \n",
    "        loss = self.criterion(current_q_values, expected_q_values)\n",
    "        self.optimizer.zero_grad()\n",
    "        loss.backward()\n",
    "        self.optimizer.step()\n",
    "        \n",
    "    def soft_update_target_network(self, tau=0.001):\n",
    "        for target_param, param in zip(self.target_model.parameters(), self.model.parameters()):\n",
    "            target_param.data.copy_(tau * param.data + (1 - tau) * target_param.data)"
   ]
  }
 ],
 "metadata": {
  "kernelspec": {
   "display_name": "tatcenv",
   "language": "python",
   "name": "python3"
  },
  "language_info": {
   "codemirror_mode": {
    "name": "ipython",
    "version": 3
   },
   "file_extension": ".py",
   "mimetype": "text/x-python",
   "name": "python",
   "nbconvert_exporter": "python",
   "pygments_lexer": "ipython3",
   "version": "3.13.1"
  },
  "orig_nbformat": 4
 },
 "nbformat": 4,
 "nbformat_minor": 2
}
