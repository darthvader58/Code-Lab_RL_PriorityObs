{
 "cells": [
  {
   "cell_type": "code",
   "execution_count": 1,
   "metadata": {},
   "outputs": [],
   "source": [
    "import torch\n",
    "import torch.nn as nn\n",
    "import torch.optim as optim\n",
    "from sklearn.preprocessing import MinMaxScaler, OneHotEncoder\n",
    "import geopandas as gpd\n",
    "from shapely.geometry import Point\n",
    "import numpy as np\n",
    "from datetime import timedelta\n",
    "import pandas as pd\n",
    "from sklearn.model_selection import TimeSeriesSplit\n",
    "from sklearn.ensemble import RandomForestClassifier\n",
    "from sklearn.metrics import precision_score, recall_score, f1_score\n",
    "import matplotlib.pyplot as plt\n",
    "import cartopy.crs as ccrs\n",
    "import cartopy.feature as cfeature\n",
    "import matplotlib.animation as animation\n",
    "from matplotlib.animation import FuncAnimation\n",
    "from matplotlib.colors import Normalize\n",
    "import numpy as np\n",
    "import gymnasium as gym\n",
    "from gymnasium import spaces"
   ]
  },
  {
   "cell_type": "code",
   "execution_count": 2,
   "metadata": {},
   "outputs": [
    {
     "name": "stderr",
     "output_type": "stream",
     "text": [
      "/Users/shashwatraj/Documents/GitHub/Code-Lab_RL_PriorityObs/tatcenv/lib/python3.13/site-packages/pyogrio/raw.py:198: RuntimeWarning: driver GeoJSON does not support open option DRIVER\n",
      "  return ogr_read(\n"
     ]
    },
    {
     "name": "stdout",
     "output_type": "stream",
     "text": [
      "                           time satellite instrument    swath_width  \\\n",
      "0     2024-05-22 00:00:00+00:00      Test       Test  278640.704057   \n",
      "1     2024-05-22 00:02:00+00:00      Test       Test  277041.710508   \n",
      "2     2024-05-22 00:04:00+00:00      Test       Test  275419.732317   \n",
      "3     2024-05-22 00:06:00+00:00      Test       Test  273866.283658   \n",
      "4     2024-05-22 00:08:00+00:00      Test       Test  272466.738302   \n",
      "...                         ...       ...        ...            ...   \n",
      "94475 2024-09-22 00:22:00+00:00      Test       Test  269537.568606   \n",
      "94476 2024-09-22 00:24:00+00:00      Test       Test  267843.485083   \n",
      "94477 2024-09-22 00:26:00+00:00      Test       Test  266231.255770   \n",
      "94478 2024-09-22 00:28:00+00:00      Test       Test  264783.666193   \n",
      "94479 2024-09-22 00:30:00+00:00      Test       Test  263569.285624   \n",
      "\n",
      "       valid_obs  solar_hour time_range  month    lat_sat     lon_sat  \\\n",
      "0           True    9.006320    morning      5 -38.142798  134.265144   \n",
      "1           True    9.495089    morning      5 -33.073314  141.096599   \n",
      "2           True    9.929164    morning      5 -27.614694  147.107611   \n",
      "3           True   10.321410    morning      5 -21.873562  152.491185   \n",
      "4           True   10.683133    morning      5 -15.932572  157.416882   \n",
      "...          ...         ...        ...    ...        ...         ...   \n",
      "94475       True    8.252109    morning      9 -30.398509  116.457490   \n",
      "94476       True    8.664586    morning      9 -24.776929  122.144472   \n",
      "94477       True    9.040970    morning      9 -18.915463  127.290042   \n",
      "94478       True    9.391817    morning      9 -12.887910  132.052517   \n",
      "94479       True    9.726269    morning      9  -6.754432  136.569036   \n",
      "\n",
      "       cnprcp_mean                                           geometry  \n",
      "0              0.0  POLYGON Z ((135.51668 -38.1428 0, 135.51065 -3...  \n",
      "1              0.0  POLYGON Z ((142.34095 -33.07331 0, 142.33496 -...  \n",
      "2              0.0  POLYGON Z ((148.34468 -27.61469 0, 148.33872 -...  \n",
      "3              0.0  POLYGON Z ((153.72128 -21.87356 0, 153.71535 -...  \n",
      "4              0.0  POLYGON Z ((158.64069 -15.93257 0, 158.63479 -...  \n",
      "...            ...                                                ...  \n",
      "94475          0.0  POLYGON Z ((117.66814 -30.39851 0, 117.66231 -...  \n",
      "94476          0.0  POLYGON Z ((123.34751 -24.77693 0, 123.34172 -...  \n",
      "94477          0.0  POLYGON Z ((128.48584 -18.91546 0, 128.48008 -...  \n",
      "94478          0.0  POLYGON Z ((133.24181 -12.88791 0, 133.23609 -...  \n",
      "94479          0.0  POLYGON Z ((137.75288 -6.75443 0, 137.74718 -6...  \n",
      "\n",
      "[94480 rows x 12 columns]\n",
      "Index(['time', 'satellite', 'instrument', 'swath_width', 'valid_obs',\n",
      "       'solar_hour', 'time_range', 'month', 'lat_sat', 'lon_sat',\n",
      "       'cnprcp_mean', 'geometry'],\n",
      "      dtype='object')\n",
      "94480\n",
      "3630\n"
     ]
    }
   ],
   "source": [
    "#Reading the Data File\n",
    "\n",
    "file_path = 'zip://clustered_data_4months.zip!clustered_data_4months (2).geojson'\n",
    "data = gpd.read_file(file_path, driver=\"GeoJSON\")\n",
    "\n",
    "\n",
    "data.head(), data.columns\n",
    "\n",
    "print(data)\n",
    "print(data.columns)\n",
    "print(len(data))\n",
    "print(len(data[data['cnprcp_mean']>0]))"
   ]
  },
  {
   "cell_type": "code",
   "execution_count": 3,
   "metadata": {},
   "outputs": [],
   "source": [
    "# Preprocessing timestamp\n",
    "data['time'] = pd.to_datetime(data['time'])\n",
    "\n",
    "\n",
    "data['time_step'] = (data['time'] - data['time'].min()).dt.total_seconds()"
   ]
  },
  {
   "cell_type": "code",
   "execution_count": 4,
   "metadata": {},
   "outputs": [],
   "source": [
    "world = gpd.read_file('110m_cultural.zip', layer = 'ne_110m_admin_0_boundary_lines_land')\n",
    "geometry = [Point(xy) for xy in zip(data['lon_sat'], data['lat_sat'])]\n",
    "geo_full = gpd.GeoDataFrame(data, geometry=geometry)\n",
    "geo_full['ground_track'] = geo_full.apply(lambda row: 0 if world.contains(row.geometry).any() else 1, axis=1)\n",
    "data['ground_track'] = geo_full['ground_track']"
   ]
  },
  {
   "cell_type": "code",
   "execution_count": 5,
   "metadata": {},
   "outputs": [],
   "source": [
    "data['lat_rad'] = np.radians(data['lat_sat'])\n",
    "data['lon_rad'] = np.radians(data['lon_sat'])\n",
    "\n",
    "data['x'] = np.cos(data['lat_rad']) * np.cos(data['lon_rad'])\n",
    "data['y'] = np.cos(data['lat_rad']) * np.sin(data['lon_rad'])\n",
    "data['z'] = np.sin(data['lat_rad'])"
   ]
  },
  {
   "cell_type": "code",
   "execution_count": 6,
   "metadata": {},
   "outputs": [],
   "source": [
    "encoder = OneHotEncoder(sparse_output=False)\n",
    "time_range_encoded = encoder.fit_transform(data[['time_range']])\n",
    "time_range_feature_names = encoder.get_feature_names_out(['time_range'])\n",
    "time_range_df = pd.DataFrame(time_range_encoded, columns=time_range_feature_names, index=data.index)\n",
    "data = pd.concat([data, time_range_df], axis=1)"
   ]
  },
  {
   "cell_type": "code",
   "execution_count": 7,
   "metadata": {},
   "outputs": [],
   "source": [
    "scaler = MinMaxScaler()\n",
    "cols_to_scale = ['x','y','z']\n",
    "scaled_values = scaler.fit_transform(data[cols_to_scale])\n",
    "data['x_norm'] = scaled_values[:, 0]\n",
    "data['y_norm'] = scaled_values[:, 1]\n",
    "data['z_norm'] = scaled_values[:, 2]"
   ]
  },
  {
   "cell_type": "code",
   "execution_count": 31,
   "metadata": {},
   "outputs": [],
   "source": [
    "class SatelliteEnv(gym.Env):\n",
    "    def __init__(self, df, alpha=1.0, gamma=1.0, mu=1.0):\n",
    "        super(SatelliteEnv, self).__init__()\n",
    "        self.df = df.reset_index(drop=True)\n",
    "        self.n_steps = len(self.df)\n",
    "        self.alpha = alpha\n",
    "        self.gamma = gamma\n",
    "        self.mu = mu\n",
    "\n",
    "        # Action space: 0 = don't act, 1 = act.\n",
    "        self.action_space = spaces.Discrete(2)\n",
    "\n",
    "        # One-hot encoded time_range columns.\n",
    "        self.one_hot_cols = [col for col in df.columns if col.startswith('time_range_')]\n",
    "        n_one_hot = len(self.one_hot_cols)\n",
    "\n",
    "        self.obs_dim = 4 + n_one_hot\n",
    "        self.observation_space = spaces.Box(low=0.0, high=1.0, shape=(self.obs_dim,), dtype=np.float32)\n",
    "        self._index = 0\n",
    "\n",
    "    # Define reset method\n",
    "    def reset(self, seed=None, options=None):\n",
    "        self._index = 0\n",
    "        return self._get_obs(), {}\n",
    "    \n",
    "    # Define step method\n",
    "    def step(self, action):\n",
    "        reward = self._compute_reward(action)\n",
    "        self._index += 1\n",
    "        done = (self._index >= self.n_steps - 1)\n",
    "        obs = self._get_obs() if not done else np.zeros(self.obs_dim, dtype=np.float32)\n",
    "        terminated = done  # assuming episode termination\n",
    "        truncated = False  # assuming no truncation\n",
    "        return obs, reward, terminated, truncated, {}\n",
    "    \n",
    "    # Define the State-Space\n",
    "    def _get_obs(self):\n",
    "        row = self.df.iloc[self._index]\n",
    "        # states : x_norm, y_norm, z_norm, ground_track.\n",
    "        cont_features = np.array([\n",
    "            row['x_norm'],\n",
    "            row['y_norm'],\n",
    "            row['z_norm'],\n",
    "            float(row['ground_track'])\n",
    "        ], dtype=np.float32)\n",
    "        # One-hot encoded time_range features:\n",
    "        one_hot_features = row[self.one_hot_cols].values.astype(np.float32)\n",
    "        # Concatenate the encoded vector and state features to form the full state.\n",
    "        obs = np.concatenate([cont_features, one_hot_features])\n",
    "        return obs\n",
    "    \n",
    "    # Define the Reward Function\n",
    "    # correct decision*intensity\n",
    "    def _compute_reward(self, action):\n",
    "        row = self.df.iloc[self._index]\n",
    "        cnprcp_mean = row['cnprcp_mean']\n",
    "        scale = 10000  # scaling factor to amplify small precipitation values\n",
    "        if action == 1:\n",
    "            if cnprcp_mean > 0:\n",
    "                # Correct detection: give a base reward of 1 plus bonus proportional to intensity.\n",
    "                reward = 1 + (cnprcp_mean * scale)\n",
    "            else:\n",
    "                # False positive: a small penalty for acting when there's no precipitation.\n",
    "                reward = -0.1\n",
    "        else:  # action == 0\n",
    "            if cnprcp_mean > 0:\n",
    "                # False negative: add a moderate penalty for missing a precipitation event.\n",
    "                reward = -0.01\n",
    "            else:\n",
    "                reward = 0\n",
    "        return reward"
   ]
  },
  {
   "cell_type": "code",
   "execution_count": 9,
   "metadata": {},
   "outputs": [
    {
     "name": "stdout",
     "output_type": "stream",
     "text": [
      "True\n"
     ]
    }
   ],
   "source": [
    "import torch\n",
    "print(torch.backends.mps.is_available())"
   ]
  },
  {
   "cell_type": "code",
   "execution_count": 32,
   "metadata": {},
   "outputs": [
    {
     "name": "stdout",
     "output_type": "stream",
     "text": [
      "Fold 0: F1_Score = 0.095, Precision_Score = 0.050, Recall_Score = 0.898, Total Reward = -296.734\n",
      "Fold 1: F1_Score = 0.129, Precision_Score = 0.077, Recall_Score = 0.407, Total Reward = 191.068\n",
      "Fold 2: F1_Score = 0.083, Precision_Score = 0.044, Recall_Score = 0.729, Total Reward = -203.417\n",
      "\n",
      "Overall: Mean F1 = 0.102, Mean Cumulative Reward = -103.028\n"
     ]
    }
   ],
   "source": [
    "from sb3_contrib import QRDQN \n",
    "from stable_baselines3.common.env_checker import check_env\n",
    "\n",
    "all_f1_scores = []\n",
    "all_precision_scores = []\n",
    "all_recall_scores = []\n",
    "all_rewards = []\n",
    "\n",
    "tscv = TimeSeriesSplit(n_splits=3)\n",
    "\n",
    "for fold_idx, (train_idx, test_idx) in enumerate(tscv.split(data)):\n",
    "    train_df = data.iloc[train_idx]\n",
    "    test_df = data.iloc[test_idx]\n",
    "\n",
    "    train_env = SatelliteEnv(train_df, alpha=20.0, gamma=1.0, mu=1.0)\n",
    "    check_env(train_env, warn=True)\n",
    "\n",
    "    # 3) Train the QRDQN model (a distributional RL algorithm)\n",
    "    model = QRDQN(\"MlpPolicy\", train_env, verbose=0)\n",
    "    model.learn(total_timesteps=100000)  \n",
    "\n",
    "    # 4) Evaluate on the test split\n",
    "    test_env = SatelliteEnv(test_df, alpha=20.0, gamma=1.0, mu=1.0)\n",
    "    obs, _ = test_env.reset()\n",
    "\n",
    "    done = False\n",
    "    total_reward = 0.0\n",
    "    predicted_actions = []\n",
    "    actual_labels = []\n",
    "\n",
    "    while not done:\n",
    "        action, _ = model.predict(obs, deterministic=True)\n",
    "        predicted_actions.append(action)\n",
    "        \n",
    "        # Get actual label from cnprcp_mean: 1 if > 0, else 0.\n",
    "        current_cprcp = test_env.df.iloc[test_env._index]['cnprcp_mean']\n",
    "        actual_label = 1 if current_cprcp > 0 else 0\n",
    "        actual_labels.append(actual_label)\n",
    "\n",
    "        obs, reward, terminated, truncated, info = test_env.step(action)\n",
    "        total_reward += reward\n",
    "        done = terminated or truncated\n",
    "\n",
    "    f1 = f1_score(actual_labels, predicted_actions, zero_division=0)\n",
    "    precision = precision_score(actual_labels, predicted_actions, zero_division=0)\n",
    "    recall = recall_score(actual_labels, predicted_actions, zero_division=0)\n",
    "    all_f1_scores.append(f1)\n",
    "    all_precision_scores.append(precision)\n",
    "    all_recall_scores.append(recall)\n",
    "    all_rewards.append(total_reward)\n",
    "    print(f\"Fold {fold_idx}: F1_Score = {f1:.3f}, Precision_Score = {precision:.3f}, Recall_Score = {recall:.3f}, Total Reward = {total_reward:.3f}\")\n",
    "\n",
    "mean_f1 = np.mean(all_f1_scores)\n",
    "mean_reward = np.mean(all_rewards)\n",
    "print(f\"\\nOverall: Mean F1 = {mean_f1:.3f}, Mean Cumulative Reward = {mean_reward:.3f}\")"
   ]
  }
 ],
 "metadata": {
  "kernelspec": {
   "display_name": "tatcenv",
   "language": "python",
   "name": "python3"
  },
  "language_info": {
   "codemirror_mode": {
    "name": "ipython",
    "version": 3
   },
   "file_extension": ".py",
   "mimetype": "text/x-python",
   "name": "python",
   "nbconvert_exporter": "python",
   "pygments_lexer": "ipython3",
   "version": "3.13.1"
  }
 },
 "nbformat": 4,
 "nbformat_minor": 2
}
